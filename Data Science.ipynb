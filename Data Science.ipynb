{
 "cells": [
  {
   "cell_type": "markdown",
   "metadata": {},
   "source": [
    "### Introduction"
   ]
  },
  {
   "cell_type": "markdown",
   "metadata": {},
   "source": [
    "Rajesh Singh, 12 plus years of work experience in IT Service & Project management. Shifted to DataScience recently because of \"Love at the first sight with data\". When we hear a term data, first thing we get in mind is \"Reports\" for some its manual or lengthy or boring or routine work \n",
    "\n",
    "What if I say, Data can be most interesting part of your job, most critical decisions in your organisation will be taken by the data you processed and most importamt part - They are highly paid!!!"
   ]
  },
  {
   "cell_type": "markdown",
   "metadata": {},
   "source": [
    "#### Exponential Data Growth!!!\n",
    "The world today is generating a huge amount of data.Every single day an average person generates a data in Gigabytes knowingly and unknowingly.\n",
    "\n",
    "The stock market,the social media giants like Facebook,twitter,log files etc. generate this kind of so called structured or unstructured data ,which  is coined as the big data."
   ]
  },
  {
   "cell_type": "markdown",
   "metadata": {},
   "source": [
    "#### Graphical Understanding of Data & its Growth"
   ]
  },
  {
   "cell_type": "markdown",
   "metadata": {},
   "source": [
    "![alt text](data0.Jpg)"
   ]
  },
  {
   "cell_type": "markdown",
   "metadata": {},
   "source": [
    "![alt text](data.Jpg)"
   ]
  },
  {
   "cell_type": "markdown",
   "metadata": {},
   "source": [
    "![alt text](data2.png)"
   ]
  },
  {
   "cell_type": "markdown",
   "metadata": {},
   "source": [
    "![alt text](data2.jpg)"
   ]
  },
  {
   "cell_type": "markdown",
   "metadata": {},
   "source": [
    "### ."
   ]
  },
  {
   "cell_type": "markdown",
   "metadata": {},
   "source": [
    "### What is Data Science?\n",
    "\n",
    "The science that is used to fetch ,clean and analyze this data using some some technology is the data science .\n",
    "\n",
    "###### \"Extracting value from data, getting actionable insight from data using tools & codes from statistics, mathematics, & machine learning\"\n",
    "\n",
    "### How Data Science is different than Artificial Intelligence (Machine Learning + Deep Learning + Something?"
   ]
  },
  {
   "cell_type": "markdown",
   "metadata": {},
   "source": [
    "#### What is Machine Learning?\n",
    "Machine learning is the ability of a computer system to learn from the environment and improve itself from experience without the need for any explicit programming. Machine learning focuses on enabling algorithms to learn from the data provided, gather insights and make predictions on previously unanalyzed data using the information gathered. Machine learning can be performed using multiple approaches.\n",
    "\n",
    "#### What is Data Science?\n",
    "Data science is the extraction of relevant insights from data. It uses various techniques from many fields like mathematics, machine learning, computer programming, statistical modeling, data engineering and visualization, pattern recognition and learning, uncertainty modeling, data warehousing, and cloud computing."
   ]
  },
  {
   "cell_type": "markdown",
   "metadata": {},
   "source": [
    "### The Difference between Artificial Intelligence, Machine Learning and Data Science:\n",
    "\n",
    "Data science isn’t exactly a subset of machine learning but it uses ML to analyze data and make predictions about the future. It combines machine learning with other disciplines like big data analytics and cloud computing. Data science is a practical application of machine learning with a complete focus on solving real-world problems.\n",
    "\n",
    "![alt text](Pic.Jpg)"
   ]
  },
  {
   "cell_type": "markdown",
   "metadata": {},
   "source": [
    "### Career Oppertunities in Data Science\n",
    "\n",
    "Data Scientist: The Sexiest Job of the 21st Century - Harward Business Review\n",
    "\n",
    "Ref link : https://hbr.org/2012/10/data-scientist-the-sexiest-job-of-the-21st-century"
   ]
  },
  {
   "cell_type": "markdown",
   "metadata": {},
   "source": [
    "###### \"What data scientists do is make discoveries while swimming in data dominant trait is intense curiosity—a desire to go beneath the surface of a problem, find the questions at its heart, and distill them into a very clear set of hypotheses that can be tested. This often entails the associative thinking that characterizes the most creative scientists in any field…. perhaps it’s becoming clear that the word ‘scientist’ fits this emerging role… their greatest opportunity to add value is not in creating reports or presentations for senior executives but in innovating with customer-facing products and processes.”"
   ]
  },
  {
   "cell_type": "markdown",
   "metadata": {},
   "source": [
    "So the role is here to stay, but unquestionably, the specifics of what a Data Scientist does will evolve. With technologies like Machine Learning becoming ever-more commonplace, and emerging fields like Deep Learning gaining significant traction amongst researchers and engineers—and the companies that hire them—Data Scientists continue to ride the crest of an incredible wave of innovation and technological progress.\n",
    "\n",
    "To illustrate this point, a 2011 study from the McKinsey Global Institute indicates retailers that maximize data analysis capabilities could increase profits by a whopping 60%, while the health care industry can reduce operational expenses by 8% - that’s $200 billion per year.\n",
    "\n",
    "Artificial intelligence will replace some of the existing jobs: Amazon India AI head\n",
    "\n",
    "Wall Street's research jobs are the most likely to be upended by artificial intelligence\n",
    "\n",
    "The North Atlantic Treaty Organization (NATO) believes in incorporating artificial intelligence in its decision-making process, a senior official told CNBC.\n",
    "\n",
    "More companies are using artificial intelligence and analytics to fight against cyber threats - Financial Post\n",
    "\n",
    "Artificial Intelligence could double NZ's growth rate - Scoop Business News"
   ]
  },
  {
   "cell_type": "markdown",
   "metadata": {},
   "source": [
    "![alt text](data5.png)"
   ]
  },
  {
   "cell_type": "markdown",
   "metadata": {},
   "source": [
    "According to a report in Times of India companies in India saw 32.2% more demand in Big Data jobs as compared to other jobs in Information Technology. The job located mostly in cities like Bangalore, Mumbai or Delhi NCR with Bangalore taking the lead requiring the highest number of data analysts and data scientist with the number being 30,000. The degrees required for these jobs are Information Technology, management or even doctorates degrees. Salaries in India generally ranges from Rs10 lakhs per annum to Rs 12 Lakhs per annum. Observation states that an employee with 4 to 5 years of experience in data, possessing a certificate can get a hike of almost 70%. While employees with an experience of 8 to 10 years can get paid around 30 lakhs per annum. Among startups and established organizations, it has been observed that startups generally pay more than the larger companies."
   ]
  },
  {
   "cell_type": "markdown",
   "metadata": {},
   "source": [
    "### What are requisite skill set to be a data scientist? \n",
    "\n",
    "Data science is a beautiful blend of 3 major domains. Expertise in mathematics, technical and programming skills, business and strategy awareness combine to form Data Science. \n",
    "\n",
    "**Mathematics and Data Science** - The core of building data product is the ability to view the huge volumes of data quantitatively. Building analytic models to solve business problems is usually hard math. Though statistics is an important part of data science, it is not the only type of math utilised. Many inferential techniques and machine learning and linear algebra are used by data scientists. It is necessary for a data scientist to have an overall depth of knowledge in mathematics. \n",
    "\n",
    "**Technical and programming skills** - Using technical skills to wrangle enormous data to create genuine solutions require complex programming skills. Data scientists need to be able to code - prototype quick solutions, as well as integrate with complex data systems. Core languages associated with data science include SQL, Python, R, and SAS. \n",
    "\n",
    "**Strong Business strategies** - A data scientist must be able to view data through business lens. This helps translate the data observations made to solve business problems. Data scientists use the data insights as support to build better business strategies.\n"
   ]
  },
  {
   "cell_type": "markdown",
   "metadata": {},
   "source": [
    "**Data Scientist Education Requirements**\n",
    "\n",
    "The education requirements for data scientists are among the steepest of all IT occupations. Approximately 40% of data scientist positions require an advanced degree, such as a Master's, MBA or PhD. Others companies will accept data scientists with undergraduate diplomas in an analytical concentration, such as Computer Science, Math & Statistics, Management Information Systems, Economics, Engineering and Hard Sciences."
   ]
  },
  {
   "cell_type": "markdown",
   "metadata": {},
   "source": [
    "### Am non technical or person with little programming skills - How can I make my entry in to Data Science?\n",
    "\n",
    "1. Get Good Understanding of 10th Class level - Basics of Calculus, Algebra, Probability, Statistics \n",
    "2. Then Start with understanding Machine Learning models (ML is combination of Algebra, Probability, Statistics) from Coursera by Andrew Ng\n",
    "3. In Parllel - Learn Python, SQL, R and other critical tools Hadoop, Qlikview, Tableau, Tensorflow, etc \n",
    "4. Pull the datasets from required source and start doing projects \n",
    "5. you can use github or stackflow if you need any assistance/reference in projects\n",
    "6. Participate in technical discussions at Stackflow, Kaggle and other platform\n",
    "7. Participate Kaggle challenge"
   ]
  },
  {
   "cell_type": "code",
   "execution_count": null,
   "metadata": {},
   "outputs": [],
   "source": []
  }
 ],
 "metadata": {
  "kernelspec": {
   "display_name": "Python 3",
   "language": "python",
   "name": "python3"
  },
  "language_info": {
   "codemirror_mode": {
    "name": "ipython",
    "version": 3
   },
   "file_extension": ".py",
   "mimetype": "text/x-python",
   "name": "python",
   "nbconvert_exporter": "python",
   "pygments_lexer": "ipython3",
   "version": "3.6.2"
  }
 },
 "nbformat": 4,
 "nbformat_minor": 2
}
